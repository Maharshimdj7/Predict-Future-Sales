{
 "cells": [
  {
   "cell_type": "markdown",
   "metadata": {},
   "source": [
    "                                            Final Project CS636\n",
    "                                                    Team\n",
    "                                            Devam Shah (dms224)\n",
    "                                            Janki Patel (jrp244)\n",
    "                                            Krina Patel (kjp77)\n",
    "                                            Maharshi jani (mdj7)"
   ]
  },
  {
   "cell_type": "code",
   "execution_count": 2,
   "metadata": {},
   "outputs": [],
   "source": [
    "# read data from csv files\n",
    "csv_sales_train = read.csv('sales_train.csv')\n",
    "csv_item_categories = read.csv('item_categories.csv')\n",
    "csv_items = read.csv('items.csv')\n",
    "csv_sample_submission = read.csv('sample_submission.csv')\n",
    "csv_shops = read.csv('shops.csv')\n",
    "csv_test = read.csv('test.csv')"
   ]
  },
  {
   "cell_type": "code",
   "execution_count": 3,
   "metadata": {},
   "outputs": [
    {
     "data": {
      "text/html": [
       "<table>\n",
       "<caption>A data.frame: 6 × 6</caption>\n",
       "<thead>\n",
       "\t<tr><th></th><th scope=col>date</th><th scope=col>date_block_num</th><th scope=col>shop_id</th><th scope=col>item_id</th><th scope=col>item_price</th><th scope=col>item_cnt_day</th></tr>\n",
       "\t<tr><th></th><th scope=col>&lt;chr&gt;</th><th scope=col>&lt;int&gt;</th><th scope=col>&lt;int&gt;</th><th scope=col>&lt;int&gt;</th><th scope=col>&lt;dbl&gt;</th><th scope=col>&lt;dbl&gt;</th></tr>\n",
       "</thead>\n",
       "<tbody>\n",
       "\t<tr><th scope=row>1</th><td>02.01.2013</td><td>0</td><td>59</td><td>22154</td><td> 999.00</td><td> 1</td></tr>\n",
       "\t<tr><th scope=row>2</th><td>03.01.2013</td><td>0</td><td>25</td><td> 2552</td><td> 899.00</td><td> 1</td></tr>\n",
       "\t<tr><th scope=row>3</th><td>05.01.2013</td><td>0</td><td>25</td><td> 2552</td><td> 899.00</td><td>-1</td></tr>\n",
       "\t<tr><th scope=row>4</th><td>06.01.2013</td><td>0</td><td>25</td><td> 2554</td><td>1709.05</td><td> 1</td></tr>\n",
       "\t<tr><th scope=row>5</th><td>15.01.2013</td><td>0</td><td>25</td><td> 2555</td><td>1099.00</td><td> 1</td></tr>\n",
       "\t<tr><th scope=row>6</th><td>10.01.2013</td><td>0</td><td>25</td><td> 2564</td><td> 349.00</td><td> 1</td></tr>\n",
       "</tbody>\n",
       "</table>\n"
      ],
      "text/latex": [
       "A data.frame: 6 × 6\n",
       "\\begin{tabular}{r|llllll}\n",
       "  & date & date\\_block\\_num & shop\\_id & item\\_id & item\\_price & item\\_cnt\\_day\\\\\n",
       "  & <chr> & <int> & <int> & <int> & <dbl> & <dbl>\\\\\n",
       "\\hline\n",
       "\t1 & 02.01.2013 & 0 & 59 & 22154 &  999.00 &  1\\\\\n",
       "\t2 & 03.01.2013 & 0 & 25 &  2552 &  899.00 &  1\\\\\n",
       "\t3 & 05.01.2013 & 0 & 25 &  2552 &  899.00 & -1\\\\\n",
       "\t4 & 06.01.2013 & 0 & 25 &  2554 & 1709.05 &  1\\\\\n",
       "\t5 & 15.01.2013 & 0 & 25 &  2555 & 1099.00 &  1\\\\\n",
       "\t6 & 10.01.2013 & 0 & 25 &  2564 &  349.00 &  1\\\\\n",
       "\\end{tabular}\n"
      ],
      "text/markdown": [
       "\n",
       "A data.frame: 6 × 6\n",
       "\n",
       "| <!--/--> | date &lt;chr&gt; | date_block_num &lt;int&gt; | shop_id &lt;int&gt; | item_id &lt;int&gt; | item_price &lt;dbl&gt; | item_cnt_day &lt;dbl&gt; |\n",
       "|---|---|---|---|---|---|---|\n",
       "| 1 | 02.01.2013 | 0 | 59 | 22154 |  999.00 |  1 |\n",
       "| 2 | 03.01.2013 | 0 | 25 |  2552 |  899.00 |  1 |\n",
       "| 3 | 05.01.2013 | 0 | 25 |  2552 |  899.00 | -1 |\n",
       "| 4 | 06.01.2013 | 0 | 25 |  2554 | 1709.05 |  1 |\n",
       "| 5 | 15.01.2013 | 0 | 25 |  2555 | 1099.00 |  1 |\n",
       "| 6 | 10.01.2013 | 0 | 25 |  2564 |  349.00 |  1 |\n",
       "\n"
      ],
      "text/plain": [
       "  date       date_block_num shop_id item_id item_price item_cnt_day\n",
       "1 02.01.2013 0              59      22154    999.00     1          \n",
       "2 03.01.2013 0              25       2552    899.00     1          \n",
       "3 05.01.2013 0              25       2552    899.00    -1          \n",
       "4 06.01.2013 0              25       2554   1709.05     1          \n",
       "5 15.01.2013 0              25       2555   1099.00     1          \n",
       "6 10.01.2013 0              25       2564    349.00     1          "
      ]
     },
     "metadata": {},
     "output_type": "display_data"
    }
   ],
   "source": [
    "head(csv_sales_train)"
   ]
  },
  {
   "cell_type": "code",
   "execution_count": 4,
   "metadata": {},
   "outputs": [
    {
     "data": {
      "text/html": [
       "<table>\n",
       "<caption>A data.frame: 6 × 2</caption>\n",
       "<thead>\n",
       "\t<tr><th></th><th scope=col>item_category_name</th><th scope=col>item_category_id</th></tr>\n",
       "\t<tr><th></th><th scope=col>&lt;chr&gt;</th><th scope=col>&lt;int&gt;</th></tr>\n",
       "</thead>\n",
       "<tbody>\n",
       "\t<tr><th scope=row>1</th><td>PC - Ð“Ð°Ñ€Ð½Ð¸Ñ‚ÑƒÑ€Ñ‹/ÐÐ°ÑƒÑˆÐ½Ð¸ÐºÐ¸</td><td>0</td></tr>\n",
       "\t<tr><th scope=row>2</th><td>ÐÐºÑÐµÑÑÑƒÐ°Ñ€Ñ‹ - PS2              </td><td>1</td></tr>\n",
       "\t<tr><th scope=row>3</th><td>ÐÐºÑÐµÑÑÑƒÐ°Ñ€Ñ‹ - PS3              </td><td>2</td></tr>\n",
       "\t<tr><th scope=row>4</th><td>ÐÐºÑÐµÑÑÑƒÐ°Ñ€Ñ‹ - PS4              </td><td>3</td></tr>\n",
       "\t<tr><th scope=row>5</th><td>ÐÐºÑÐµÑÑÑƒÐ°Ñ€Ñ‹ - PSP              </td><td>4</td></tr>\n",
       "\t<tr><th scope=row>6</th><td>ÐÐºÑÐµÑÑÑƒÐ°Ñ€Ñ‹ - PSVita           </td><td>5</td></tr>\n",
       "</tbody>\n",
       "</table>\n"
      ],
      "text/latex": [
       "A data.frame: 6 × 2\n",
       "\\begin{tabular}{r|ll}\n",
       "  & item\\_category\\_name & item\\_category\\_id\\\\\n",
       "  & <chr> & <int>\\\\\n",
       "\\hline\n",
       "\t1 & PC - Ð“Ð°Ñ€Ð½Ð¸Ñ‚ÑƒÑ€Ñ‹/ÐÐ°ÑƒÑˆÐ½Ð¸ÐºÐ¸ & 0\\\\\n",
       "\t2 & ÐÐºÑÐµÑÑÑƒÐ°Ñ€Ñ‹ - PS2               & 1\\\\\n",
       "\t3 & ÐÐºÑÐµÑÑÑƒÐ°Ñ€Ñ‹ - PS3               & 2\\\\\n",
       "\t4 & ÐÐºÑÐµÑÑÑƒÐ°Ñ€Ñ‹ - PS4               & 3\\\\\n",
       "\t5 & ÐÐºÑÐµÑÑÑƒÐ°Ñ€Ñ‹ - PSP               & 4\\\\\n",
       "\t6 & ÐÐºÑÐµÑÑÑƒÐ°Ñ€Ñ‹ - PSVita            & 5\\\\\n",
       "\\end{tabular}\n"
      ],
      "text/markdown": [
       "\n",
       "A data.frame: 6 × 2\n",
       "\n",
       "| <!--/--> | item_category_name &lt;chr&gt; | item_category_id &lt;int&gt; |\n",
       "|---|---|---|\n",
       "| 1 | PC - Ð“Ð°Ñ€Ð½Ð¸Ñ‚ÑƒÑ€Ñ‹/ÐÐ°ÑƒÑˆÐ½Ð¸ÐºÐ¸ | 0 |\n",
       "| 2 | ÐÐºÑÐµÑÑÑƒÐ°Ñ€Ñ‹ - PS2               | 1 |\n",
       "| 3 | ÐÐºÑÐµÑÑÑƒÐ°Ñ€Ñ‹ - PS3               | 2 |\n",
       "| 4 | ÐÐºÑÐµÑÑÑƒÐ°Ñ€Ñ‹ - PS4               | 3 |\n",
       "| 5 | ÐÐºÑÐµÑÑÑƒÐ°Ñ€Ñ‹ - PSP               | 4 |\n",
       "| 6 | ÐÐºÑÐµÑÑÑƒÐ°Ñ€Ñ‹ - PSVita            | 5 |\n",
       "\n"
      ],
      "text/plain": [
       "  item_category_name                       item_category_id\n",
       "1 PC - Ð“Ð°Ñ\\200Ð½Ð¸Ñ‚ÑƒÑ\\200Ñ‹/Ð\\235Ð°ÑƒÑ\\210Ð½Ð¸ÐºÐ¸ 0               \n",
       "2 Ð\\220ÐºÑ\\201ÐµÑ\\201Ñ\\201ÑƒÐ°Ñ\\200Ñ‹ - PS2               1               \n",
       "3 Ð\\220ÐºÑ\\201ÐµÑ\\201Ñ\\201ÑƒÐ°Ñ\\200Ñ‹ - PS3               2               \n",
       "4 Ð\\220ÐºÑ\\201ÐµÑ\\201Ñ\\201ÑƒÐ°Ñ\\200Ñ‹ - PS4               3               \n",
       "5 Ð\\220ÐºÑ\\201ÐµÑ\\201Ñ\\201ÑƒÐ°Ñ\\200Ñ‹ - PSP               4               \n",
       "6 Ð\\220ÐºÑ\\201ÐµÑ\\201Ñ\\201ÑƒÐ°Ñ\\200Ñ‹ - PSVita            5               "
      ]
     },
     "metadata": {},
     "output_type": "display_data"
    }
   ],
   "source": [
    "head(csv_item_categories)"
   ]
  },
  {
   "cell_type": "code",
   "execution_count": 5,
   "metadata": {},
   "outputs": [
    {
     "data": {
      "text/html": [
       "<table>\n",
       "<caption>A data.frame: 6 × 3</caption>\n",
       "<thead>\n",
       "\t<tr><th></th><th scope=col>item_name</th><th scope=col>item_id</th><th scope=col>item_category_id</th></tr>\n",
       "\t<tr><th></th><th scope=col>&lt;chr&gt;</th><th scope=col>&lt;int&gt;</th><th scope=col>&lt;int&gt;</th></tr>\n",
       "</thead>\n",
       "<tbody>\n",
       "\t<tr><th scope=row>1</th><td>! Ð’Ðž Ð’Ð›ÐÐ¡Ð¢Ð˜ ÐÐÐ’ÐÐ–Ð”Ð•ÐÐ˜Ð¯ (ÐŸÐ›ÐÐ¡Ð¢.)         D                  </td><td>0</td><td>40</td></tr>\n",
       "\t<tr><th scope=row>2</th><td>!ABBYY FineReader 12 Professional Edition Full [PC, Ð¦Ð¸Ñ„Ñ€Ð¾Ð²Ð°Ñ Ð²ÐµÑ€ÑÐ¸Ñ]</td><td>1</td><td>76</td></tr>\n",
       "\t<tr><th scope=row>3</th><td>***Ð’ Ð›Ð£Ð§ÐÐ¥ Ð¡Ð›ÐÐ’Ð«   (UNV)                    D                          </td><td>2</td><td>40</td></tr>\n",
       "\t<tr><th scope=row>4</th><td>***Ð“ÐžÐ›Ð£Ð‘ÐÐ¯ Ð’ÐžÐ›ÐÐ  (Univ)                      D                       </td><td>3</td><td>40</td></tr>\n",
       "\t<tr><th scope=row>5</th><td>***ÐšÐžÐ ÐžÐ‘ÐšÐ (Ð¡Ð¢Ð•ÐšÐ›Ðž)                       D                          </td><td>4</td><td>40</td></tr>\n",
       "\t<tr><th scope=row>6</th><td>***ÐÐžÐ’Ð«Ð• ÐÐœÐ•Ð Ð˜ÐšÐÐÐ¡ÐšÐ˜Ð• Ð“Ð ÐÐ¤Ð¤Ð˜Ð¢Ð˜  (UNI)             D      </td><td>5</td><td>40</td></tr>\n",
       "</tbody>\n",
       "</table>\n"
      ],
      "text/latex": [
       "A data.frame: 6 × 3\n",
       "\\begin{tabular}{r|lll}\n",
       "  & item\\_name & item\\_id & item\\_category\\_id\\\\\n",
       "  & <chr> & <int> & <int>\\\\\n",
       "\\hline\n",
       "\t1 & ! Ð’Ðž Ð’Ð›ÐÐ¡Ð¢Ð˜ ÐÐÐ’ÐÐ–Ð”Ð•ÐÐ˜Ð¯ (ÐŸÐ›ÐÐ¡Ð¢.)         D                   & 0 & 40\\\\\n",
       "\t2 & !ABBYY FineReader 12 Professional Edition Full {[}PC, Ð¦Ð¸Ñ„Ñ€Ð¾Ð²Ð°Ñ Ð²ÐµÑ€ÑÐ¸Ñ{]} & 1 & 76\\\\\n",
       "\t3 & ***Ð’ Ð›Ð£Ð§ÐÐ¥ Ð¡Ð›ÐÐ’Ð«   (UNV)                    D                           & 2 & 40\\\\\n",
       "\t4 & ***Ð“ÐžÐ›Ð£Ð‘ÐÐ¯ Ð’ÐžÐ›ÐÐ  (Univ)                      D                        & 3 & 40\\\\\n",
       "\t5 & ***ÐšÐžÐ ÐžÐ‘ÐšÐ (Ð¡Ð¢Ð•ÐšÐ›Ðž)                       D                           & 4 & 40\\\\\n",
       "\t6 & ***ÐÐžÐ’Ð«Ð• ÐÐœÐ•Ð Ð˜ÐšÐÐÐ¡ÐšÐ˜Ð• Ð“Ð ÐÐ¤Ð¤Ð˜Ð¢Ð˜  (UNI)             D       & 5 & 40\\\\\n",
       "\\end{tabular}\n"
      ],
      "text/markdown": [
       "\n",
       "A data.frame: 6 × 3\n",
       "\n",
       "| <!--/--> | item_name &lt;chr&gt; | item_id &lt;int&gt; | item_category_id &lt;int&gt; |\n",
       "|---|---|---|---|\n",
       "| 1 | ! Ð’Ðž Ð’Ð›ÐÐ¡Ð¢Ð˜ ÐÐÐ’ÐÐ–Ð”Ð•ÐÐ˜Ð¯ (ÐŸÐ›ÐÐ¡Ð¢.)         D                   | 0 | 40 |\n",
       "| 2 | !ABBYY FineReader 12 Professional Edition Full [PC, Ð¦Ð¸Ñ„Ñ€Ð¾Ð²Ð°Ñ Ð²ÐµÑ€ÑÐ¸Ñ] | 1 | 76 |\n",
       "| 3 | ***Ð’ Ð›Ð£Ð§ÐÐ¥ Ð¡Ð›ÐÐ’Ð«   (UNV)                    D                           | 2 | 40 |\n",
       "| 4 | ***Ð“ÐžÐ›Ð£Ð‘ÐÐ¯ Ð’ÐžÐ›ÐÐ  (Univ)                      D                        | 3 | 40 |\n",
       "| 5 | ***ÐšÐžÐ ÐžÐ‘ÐšÐ (Ð¡Ð¢Ð•ÐšÐ›Ðž)                       D                           | 4 | 40 |\n",
       "| 6 | ***ÐÐžÐ’Ð«Ð• ÐÐœÐ•Ð Ð˜ÐšÐÐÐ¡ÐšÐ˜Ð• Ð“Ð ÐÐ¤Ð¤Ð˜Ð¢Ð˜  (UNI)             D       | 5 | 40 |\n",
       "\n"
      ],
      "text/plain": [
       "  item_name                                                                         \n",
       "1 ! Ð’Ðž Ð’Ð›Ð\\220Ð¡Ð¢Ð\\230 Ð\\235Ð\\220Ð’Ð\\220Ð–Ð”Ð•Ð\\235Ð\\230Ð¯ (ÐŸÐ›Ð\\220Ð¡Ð¢.)         D                  \n",
       "2 !ABBYY FineReader 12 Professional Edition Full [PC, Ð¦Ð¸Ñ„Ñ\\200Ð¾Ð²Ð°Ñ\\217 Ð²ÐµÑ\\200Ñ\\201Ð¸Ñ\\217]\n",
       "3 ***Ð’ Ð›Ð£Ð§Ð\\220Ð¥ Ð¡Ð›Ð\\220Ð’Ð«   (UNV)                    D                          \n",
       "4 ***Ð“ÐžÐ›Ð£Ð‘Ð\\220Ð¯ Ð’ÐžÐ›Ð\\235Ð\\220  (Univ)                      D                       \n",
       "5 ***ÐšÐžÐ ÐžÐ‘ÐšÐ\\220 (Ð¡Ð¢Ð•ÐšÐ›Ðž)                       D                          \n",
       "6 ***Ð\\235ÐžÐ’Ð«Ð• Ð\\220ÐœÐ•Ð Ð\\230ÐšÐ\\220Ð\\235Ð¡ÐšÐ\\230Ð• Ð“Ð Ð\\220Ð¤Ð¤Ð\\230Ð¢Ð\\230  (UNI)             D      \n",
       "  item_id item_category_id\n",
       "1 0       40              \n",
       "2 1       76              \n",
       "3 2       40              \n",
       "4 3       40              \n",
       "5 4       40              \n",
       "6 5       40              "
      ]
     },
     "metadata": {},
     "output_type": "display_data"
    }
   ],
   "source": [
    "head(csv_items)"
   ]
  },
  {
   "cell_type": "code",
   "execution_count": 6,
   "metadata": {},
   "outputs": [
    {
     "data": {
      "text/html": [
       "<table>\n",
       "<caption>A data.frame: 6 × 2</caption>\n",
       "<thead>\n",
       "\t<tr><th></th><th scope=col>ID</th><th scope=col>item_cnt_month</th></tr>\n",
       "\t<tr><th></th><th scope=col>&lt;int&gt;</th><th scope=col>&lt;dbl&gt;</th></tr>\n",
       "</thead>\n",
       "<tbody>\n",
       "\t<tr><th scope=row>1</th><td>0</td><td>0.5</td></tr>\n",
       "\t<tr><th scope=row>2</th><td>1</td><td>0.5</td></tr>\n",
       "\t<tr><th scope=row>3</th><td>2</td><td>0.5</td></tr>\n",
       "\t<tr><th scope=row>4</th><td>3</td><td>0.5</td></tr>\n",
       "\t<tr><th scope=row>5</th><td>4</td><td>0.5</td></tr>\n",
       "\t<tr><th scope=row>6</th><td>5</td><td>0.5</td></tr>\n",
       "</tbody>\n",
       "</table>\n"
      ],
      "text/latex": [
       "A data.frame: 6 × 2\n",
       "\\begin{tabular}{r|ll}\n",
       "  & ID & item\\_cnt\\_month\\\\\n",
       "  & <int> & <dbl>\\\\\n",
       "\\hline\n",
       "\t1 & 0 & 0.5\\\\\n",
       "\t2 & 1 & 0.5\\\\\n",
       "\t3 & 2 & 0.5\\\\\n",
       "\t4 & 3 & 0.5\\\\\n",
       "\t5 & 4 & 0.5\\\\\n",
       "\t6 & 5 & 0.5\\\\\n",
       "\\end{tabular}\n"
      ],
      "text/markdown": [
       "\n",
       "A data.frame: 6 × 2\n",
       "\n",
       "| <!--/--> | ID &lt;int&gt; | item_cnt_month &lt;dbl&gt; |\n",
       "|---|---|---|\n",
       "| 1 | 0 | 0.5 |\n",
       "| 2 | 1 | 0.5 |\n",
       "| 3 | 2 | 0.5 |\n",
       "| 4 | 3 | 0.5 |\n",
       "| 5 | 4 | 0.5 |\n",
       "| 6 | 5 | 0.5 |\n",
       "\n"
      ],
      "text/plain": [
       "  ID item_cnt_month\n",
       "1 0  0.5           \n",
       "2 1  0.5           \n",
       "3 2  0.5           \n",
       "4 3  0.5           \n",
       "5 4  0.5           \n",
       "6 5  0.5           "
      ]
     },
     "metadata": {},
     "output_type": "display_data"
    }
   ],
   "source": [
    "head(csv_sample_submission)"
   ]
  },
  {
   "cell_type": "code",
   "execution_count": 7,
   "metadata": {},
   "outputs": [
    {
     "data": {
      "text/html": [
       "<table>\n",
       "<caption>A data.frame: 6 × 2</caption>\n",
       "<thead>\n",
       "\t<tr><th></th><th scope=col>shop_name</th><th scope=col>shop_id</th></tr>\n",
       "\t<tr><th></th><th scope=col>&lt;chr&gt;</th><th scope=col>&lt;int&gt;</th></tr>\n",
       "</thead>\n",
       "<tbody>\n",
       "\t<tr><th scope=row>1</th><td>!Ð¯ÐºÑƒÑ‚ÑÐº ÐžÑ€Ð´Ð¶Ð¾Ð½Ð¸ÐºÐ¸Ð´Ð·Ðµ, 56 Ñ„Ñ€Ð°Ð½    </td><td>0</td></tr>\n",
       "\t<tr><th scope=row>2</th><td>!Ð¯ÐºÑƒÑ‚ÑÐº Ð¢Ð¦ \"Ð¦ÐµÐ½Ñ‚Ñ€Ð°Ð»ÑŒÐ½Ñ‹Ð¹\" Ñ„Ñ€Ð°Ð½   </td><td>1</td></tr>\n",
       "\t<tr><th scope=row>3</th><td>ÐÐ´Ñ‹Ð³ÐµÑ Ð¢Ð¦ \"ÐœÐµÐ³Ð°\"                           </td><td>2</td></tr>\n",
       "\t<tr><th scope=row>4</th><td>Ð‘Ð°Ð»Ð°ÑˆÐ¸Ñ…Ð° Ð¢Ð Ðš \"ÐžÐºÑ‚ÑÐ±Ñ€ÑŒ-ÐšÐ¸Ð½Ð¾Ð¼Ð¸Ñ€\"</td><td>3</td></tr>\n",
       "\t<tr><th scope=row>5</th><td>Ð’Ð¾Ð»Ð¶ÑÐºÐ¸Ð¹ Ð¢Ð¦ \"Ð’Ð¾Ð»Ð³Ð° ÐœÐ¾Ð»Ð»\"            </td><td>4</td></tr>\n",
       "\t<tr><th scope=row>6</th><td>Ð’Ð¾Ð»Ð¾Ð³Ð´Ð° Ð¢Ð Ð¦ \"ÐœÐ°Ñ€Ð¼ÐµÐ»Ð°Ð´\"               </td><td>5</td></tr>\n",
       "</tbody>\n",
       "</table>\n"
      ],
      "text/latex": [
       "A data.frame: 6 × 2\n",
       "\\begin{tabular}{r|ll}\n",
       "  & shop\\_name & shop\\_id\\\\\n",
       "  & <chr> & <int>\\\\\n",
       "\\hline\n",
       "\t1 & !Ð¯ÐºÑƒÑ‚ÑÐº ÐžÑ€Ð´Ð¶Ð¾Ð½Ð¸ÐºÐ¸Ð´Ð·Ðµ, 56 Ñ„Ñ€Ð°Ð½     & 0\\\\\n",
       "\t2 & !Ð¯ÐºÑƒÑ‚ÑÐº Ð¢Ð¦ \"Ð¦ÐµÐ½Ñ‚Ñ€Ð°Ð»ÑŒÐ½Ñ‹Ð¹\" Ñ„Ñ€Ð°Ð½    & 1\\\\\n",
       "\t3 & ÐÐ´Ñ‹Ð³ÐµÑ Ð¢Ð¦ \"ÐœÐµÐ³Ð°\"                            & 2\\\\\n",
       "\t4 & Ð‘Ð°Ð»Ð°ÑˆÐ¸Ñ…Ð° Ð¢Ð Ðš \"ÐžÐºÑ‚ÑÐ±Ñ€ÑŒ-ÐšÐ¸Ð½Ð¾Ð¼Ð¸Ñ€\" & 3\\\\\n",
       "\t5 & Ð’Ð¾Ð»Ð¶ÑÐºÐ¸Ð¹ Ð¢Ð¦ \"Ð’Ð¾Ð»Ð³Ð° ÐœÐ¾Ð»Ð»\"             & 4\\\\\n",
       "\t6 & Ð’Ð¾Ð»Ð¾Ð³Ð´Ð° Ð¢Ð Ð¦ \"ÐœÐ°Ñ€Ð¼ÐµÐ»Ð°Ð´\"                & 5\\\\\n",
       "\\end{tabular}\n"
      ],
      "text/markdown": [
       "\n",
       "A data.frame: 6 × 2\n",
       "\n",
       "| <!--/--> | shop_name &lt;chr&gt; | shop_id &lt;int&gt; |\n",
       "|---|---|---|\n",
       "| 1 | !Ð¯ÐºÑƒÑ‚ÑÐº ÐžÑ€Ð´Ð¶Ð¾Ð½Ð¸ÐºÐ¸Ð´Ð·Ðµ, 56 Ñ„Ñ€Ð°Ð½     | 0 |\n",
       "| 2 | !Ð¯ÐºÑƒÑ‚ÑÐº Ð¢Ð¦ \"Ð¦ÐµÐ½Ñ‚Ñ€Ð°Ð»ÑŒÐ½Ñ‹Ð¹\" Ñ„Ñ€Ð°Ð½    | 1 |\n",
       "| 3 | ÐÐ´Ñ‹Ð³ÐµÑ Ð¢Ð¦ \"ÐœÐµÐ³Ð°\"                            | 2 |\n",
       "| 4 | Ð‘Ð°Ð»Ð°ÑˆÐ¸Ñ…Ð° Ð¢Ð Ðš \"ÐžÐºÑ‚ÑÐ±Ñ€ÑŒ-ÐšÐ¸Ð½Ð¾Ð¼Ð¸Ñ€\" | 3 |\n",
       "| 5 | Ð’Ð¾Ð»Ð¶ÑÐºÐ¸Ð¹ Ð¢Ð¦ \"Ð’Ð¾Ð»Ð³Ð° ÐœÐ¾Ð»Ð»\"             | 4 |\n",
       "| 6 | Ð’Ð¾Ð»Ð¾Ð³Ð´Ð° Ð¢Ð Ð¦ \"ÐœÐ°Ñ€Ð¼ÐµÐ»Ð°Ð´\"                | 5 |\n",
       "\n"
      ],
      "text/plain": [
       "  shop_name                                               shop_id\n",
       "1 !Ð¯ÐºÑƒÑ‚Ñ\\201Ðº ÐžÑ\\200Ð´Ð¶Ð¾Ð½Ð¸ÐºÐ¸Ð´Ð·Ðµ, 56 Ñ„Ñ\\200Ð°Ð½     0      \n",
       "2 !Ð¯ÐºÑƒÑ‚Ñ\\201Ðº Ð¢Ð¦ \"Ð¦ÐµÐ½Ñ‚Ñ\\200Ð°Ð»ÑŒÐ½Ñ‹Ð¹\" Ñ„Ñ\\200Ð°Ð½    1      \n",
       "3 Ð\\220Ð´Ñ‹Ð³ÐµÑ\\217 Ð¢Ð¦ \"ÐœÐµÐ³Ð°\"                            2      \n",
       "4 Ð‘Ð°Ð»Ð°Ñ\\210Ð¸Ñ…Ð° Ð¢Ð Ðš \"ÐžÐºÑ‚Ñ\\217Ð±Ñ\\200ÑŒ-ÐšÐ¸Ð½Ð¾Ð¼Ð¸Ñ\\200\" 3      \n",
       "5 Ð’Ð¾Ð»Ð¶Ñ\\201ÐºÐ¸Ð¹ Ð¢Ð¦ \"Ð’Ð¾Ð»Ð³Ð° ÐœÐ¾Ð»Ð»\"             4      \n",
       "6 Ð’Ð¾Ð»Ð¾Ð³Ð´Ð° Ð¢Ð Ð¦ \"ÐœÐ°Ñ\\200Ð¼ÐµÐ»Ð°Ð´\"                5      "
      ]
     },
     "metadata": {},
     "output_type": "display_data"
    }
   ],
   "source": [
    "head(csv_shops)"
   ]
  },
  {
   "cell_type": "code",
   "execution_count": 8,
   "metadata": {},
   "outputs": [
    {
     "data": {
      "text/html": [
       "<table>\n",
       "<caption>A data.frame: 6 × 3</caption>\n",
       "<thead>\n",
       "\t<tr><th></th><th scope=col>ID</th><th scope=col>shop_id</th><th scope=col>item_id</th></tr>\n",
       "\t<tr><th></th><th scope=col>&lt;int&gt;</th><th scope=col>&lt;int&gt;</th><th scope=col>&lt;int&gt;</th></tr>\n",
       "</thead>\n",
       "<tbody>\n",
       "\t<tr><th scope=row>1</th><td>0</td><td>5</td><td>5037</td></tr>\n",
       "\t<tr><th scope=row>2</th><td>1</td><td>5</td><td>5320</td></tr>\n",
       "\t<tr><th scope=row>3</th><td>2</td><td>5</td><td>5233</td></tr>\n",
       "\t<tr><th scope=row>4</th><td>3</td><td>5</td><td>5232</td></tr>\n",
       "\t<tr><th scope=row>5</th><td>4</td><td>5</td><td>5268</td></tr>\n",
       "\t<tr><th scope=row>6</th><td>5</td><td>5</td><td>5039</td></tr>\n",
       "</tbody>\n",
       "</table>\n"
      ],
      "text/latex": [
       "A data.frame: 6 × 3\n",
       "\\begin{tabular}{r|lll}\n",
       "  & ID & shop\\_id & item\\_id\\\\\n",
       "  & <int> & <int> & <int>\\\\\n",
       "\\hline\n",
       "\t1 & 0 & 5 & 5037\\\\\n",
       "\t2 & 1 & 5 & 5320\\\\\n",
       "\t3 & 2 & 5 & 5233\\\\\n",
       "\t4 & 3 & 5 & 5232\\\\\n",
       "\t5 & 4 & 5 & 5268\\\\\n",
       "\t6 & 5 & 5 & 5039\\\\\n",
       "\\end{tabular}\n"
      ],
      "text/markdown": [
       "\n",
       "A data.frame: 6 × 3\n",
       "\n",
       "| <!--/--> | ID &lt;int&gt; | shop_id &lt;int&gt; | item_id &lt;int&gt; |\n",
       "|---|---|---|---|\n",
       "| 1 | 0 | 5 | 5037 |\n",
       "| 2 | 1 | 5 | 5320 |\n",
       "| 3 | 2 | 5 | 5233 |\n",
       "| 4 | 3 | 5 | 5232 |\n",
       "| 5 | 4 | 5 | 5268 |\n",
       "| 6 | 5 | 5 | 5039 |\n",
       "\n"
      ],
      "text/plain": [
       "  ID shop_id item_id\n",
       "1 0  5       5037   \n",
       "2 1  5       5320   \n",
       "3 2  5       5233   \n",
       "4 3  5       5232   \n",
       "5 4  5       5268   \n",
       "6 5  5       5039   "
      ]
     },
     "metadata": {},
     "output_type": "display_data"
    }
   ],
   "source": [
    "head(csv_test)"
   ]
  },
  {
   "cell_type": "code",
   "execution_count": 9,
   "metadata": {},
   "outputs": [
    {
     "data": {
      "text/html": [
       "<table>\n",
       "<caption>A data.frame: 6 × 8</caption>\n",
       "<thead>\n",
       "\t<tr><th></th><th scope=col>item_id</th><th scope=col>item_name</th><th scope=col>item_category_id</th><th scope=col>date</th><th scope=col>date_block_num</th><th scope=col>shop_id</th><th scope=col>item_price</th><th scope=col>item_cnt_day</th></tr>\n",
       "\t<tr><th></th><th scope=col>&lt;int&gt;</th><th scope=col>&lt;chr&gt;</th><th scope=col>&lt;int&gt;</th><th scope=col>&lt;chr&gt;</th><th scope=col>&lt;int&gt;</th><th scope=col>&lt;int&gt;</th><th scope=col>&lt;dbl&gt;</th><th scope=col>&lt;dbl&gt;</th></tr>\n",
       "</thead>\n",
       "<tbody>\n",
       "\t<tr><th scope=row>1</th><td>0</td><td>! Ð’Ðž Ð’Ð›ÐÐ¡Ð¢Ð˜ ÐÐÐ’ÐÐ–Ð”Ð•ÐÐ˜Ð¯ (ÐŸÐ›ÐÐ¡Ð¢.)         D                  </td><td>40</td><td>01.09.2014</td><td>20</td><td>54</td><td>  58</td><td>1</td></tr>\n",
       "\t<tr><th scope=row>2</th><td>1</td><td>!ABBYY FineReader 12 Professional Edition Full [PC, Ð¦Ð¸Ñ„Ñ€Ð¾Ð²Ð°Ñ Ð²ÐµÑ€ÑÐ¸Ñ]</td><td>76</td><td>02.04.2014</td><td>15</td><td>55</td><td>4490</td><td>1</td></tr>\n",
       "\t<tr><th scope=row>3</th><td>1</td><td>!ABBYY FineReader 12 Professional Edition Full [PC, Ð¦Ð¸Ñ„Ñ€Ð¾Ð²Ð°Ñ Ð²ÐµÑ€ÑÐ¸Ñ]</td><td>76</td><td>04.08.2014</td><td>19</td><td>55</td><td>4490</td><td>1</td></tr>\n",
       "\t<tr><th scope=row>4</th><td>1</td><td>!ABBYY FineReader 12 Professional Edition Full [PC, Ð¦Ð¸Ñ„Ñ€Ð¾Ð²Ð°Ñ Ð²ÐµÑ€ÑÐ¸Ñ]</td><td>76</td><td>04.04.2014</td><td>15</td><td>55</td><td>4490</td><td>1</td></tr>\n",
       "\t<tr><th scope=row>5</th><td>1</td><td>!ABBYY FineReader 12 Professional Edition Full [PC, Ð¦Ð¸Ñ„Ñ€Ð¾Ð²Ð°Ñ Ð²ÐµÑ€ÑÐ¸Ñ]</td><td>76</td><td>20.10.2014</td><td>21</td><td>55</td><td>4490</td><td>1</td></tr>\n",
       "\t<tr><th scope=row>6</th><td>1</td><td>!ABBYY FineReader 12 Professional Edition Full [PC, Ð¦Ð¸Ñ„Ñ€Ð¾Ð²Ð°Ñ Ð²ÐµÑ€ÑÐ¸Ñ]</td><td>76</td><td>06.07.2014</td><td>18</td><td>55</td><td>4490</td><td>1</td></tr>\n",
       "</tbody>\n",
       "</table>\n"
      ],
      "text/latex": [
       "A data.frame: 6 × 8\n",
       "\\begin{tabular}{r|llllllll}\n",
       "  & item\\_id & item\\_name & item\\_category\\_id & date & date\\_block\\_num & shop\\_id & item\\_price & item\\_cnt\\_day\\\\\n",
       "  & <int> & <chr> & <int> & <chr> & <int> & <int> & <dbl> & <dbl>\\\\\n",
       "\\hline\n",
       "\t1 & 0 & ! Ð’Ðž Ð’Ð›ÐÐ¡Ð¢Ð˜ ÐÐÐ’ÐÐ–Ð”Ð•ÐÐ˜Ð¯ (ÐŸÐ›ÐÐ¡Ð¢.)         D                   & 40 & 01.09.2014 & 20 & 54 &   58 & 1\\\\\n",
       "\t2 & 1 & !ABBYY FineReader 12 Professional Edition Full {[}PC, Ð¦Ð¸Ñ„Ñ€Ð¾Ð²Ð°Ñ Ð²ÐµÑ€ÑÐ¸Ñ{]} & 76 & 02.04.2014 & 15 & 55 & 4490 & 1\\\\\n",
       "\t3 & 1 & !ABBYY FineReader 12 Professional Edition Full {[}PC, Ð¦Ð¸Ñ„Ñ€Ð¾Ð²Ð°Ñ Ð²ÐµÑ€ÑÐ¸Ñ{]} & 76 & 04.08.2014 & 19 & 55 & 4490 & 1\\\\\n",
       "\t4 & 1 & !ABBYY FineReader 12 Professional Edition Full {[}PC, Ð¦Ð¸Ñ„Ñ€Ð¾Ð²Ð°Ñ Ð²ÐµÑ€ÑÐ¸Ñ{]} & 76 & 04.04.2014 & 15 & 55 & 4490 & 1\\\\\n",
       "\t5 & 1 & !ABBYY FineReader 12 Professional Edition Full {[}PC, Ð¦Ð¸Ñ„Ñ€Ð¾Ð²Ð°Ñ Ð²ÐµÑ€ÑÐ¸Ñ{]} & 76 & 20.10.2014 & 21 & 55 & 4490 & 1\\\\\n",
       "\t6 & 1 & !ABBYY FineReader 12 Professional Edition Full {[}PC, Ð¦Ð¸Ñ„Ñ€Ð¾Ð²Ð°Ñ Ð²ÐµÑ€ÑÐ¸Ñ{]} & 76 & 06.07.2014 & 18 & 55 & 4490 & 1\\\\\n",
       "\\end{tabular}\n"
      ],
      "text/markdown": [
       "\n",
       "A data.frame: 6 × 8\n",
       "\n",
       "| <!--/--> | item_id &lt;int&gt; | item_name &lt;chr&gt; | item_category_id &lt;int&gt; | date &lt;chr&gt; | date_block_num &lt;int&gt; | shop_id &lt;int&gt; | item_price &lt;dbl&gt; | item_cnt_day &lt;dbl&gt; |\n",
       "|---|---|---|---|---|---|---|---|---|\n",
       "| 1 | 0 | ! Ð’Ðž Ð’Ð›ÐÐ¡Ð¢Ð˜ ÐÐÐ’ÐÐ–Ð”Ð•ÐÐ˜Ð¯ (ÐŸÐ›ÐÐ¡Ð¢.)         D                   | 40 | 01.09.2014 | 20 | 54 |   58 | 1 |\n",
       "| 2 | 1 | !ABBYY FineReader 12 Professional Edition Full [PC, Ð¦Ð¸Ñ„Ñ€Ð¾Ð²Ð°Ñ Ð²ÐµÑ€ÑÐ¸Ñ] | 76 | 02.04.2014 | 15 | 55 | 4490 | 1 |\n",
       "| 3 | 1 | !ABBYY FineReader 12 Professional Edition Full [PC, Ð¦Ð¸Ñ„Ñ€Ð¾Ð²Ð°Ñ Ð²ÐµÑ€ÑÐ¸Ñ] | 76 | 04.08.2014 | 19 | 55 | 4490 | 1 |\n",
       "| 4 | 1 | !ABBYY FineReader 12 Professional Edition Full [PC, Ð¦Ð¸Ñ„Ñ€Ð¾Ð²Ð°Ñ Ð²ÐµÑ€ÑÐ¸Ñ] | 76 | 04.04.2014 | 15 | 55 | 4490 | 1 |\n",
       "| 5 | 1 | !ABBYY FineReader 12 Professional Edition Full [PC, Ð¦Ð¸Ñ„Ñ€Ð¾Ð²Ð°Ñ Ð²ÐµÑ€ÑÐ¸Ñ] | 76 | 20.10.2014 | 21 | 55 | 4490 | 1 |\n",
       "| 6 | 1 | !ABBYY FineReader 12 Professional Edition Full [PC, Ð¦Ð¸Ñ„Ñ€Ð¾Ð²Ð°Ñ Ð²ÐµÑ€ÑÐ¸Ñ] | 76 | 06.07.2014 | 18 | 55 | 4490 | 1 |\n",
       "\n"
      ],
      "text/plain": [
       "  item_id\n",
       "1 0      \n",
       "2 1      \n",
       "3 1      \n",
       "4 1      \n",
       "5 1      \n",
       "6 1      \n",
       "  item_name                                                                         \n",
       "1 ! Ð’Ðž Ð’Ð›Ð\\220Ð¡Ð¢Ð\\230 Ð\\235Ð\\220Ð’Ð\\220Ð–Ð”Ð•Ð\\235Ð\\230Ð¯ (ÐŸÐ›Ð\\220Ð¡Ð¢.)         D                  \n",
       "2 !ABBYY FineReader 12 Professional Edition Full [PC, Ð¦Ð¸Ñ„Ñ\\200Ð¾Ð²Ð°Ñ\\217 Ð²ÐµÑ\\200Ñ\\201Ð¸Ñ\\217]\n",
       "3 !ABBYY FineReader 12 Professional Edition Full [PC, Ð¦Ð¸Ñ„Ñ\\200Ð¾Ð²Ð°Ñ\\217 Ð²ÐµÑ\\200Ñ\\201Ð¸Ñ\\217]\n",
       "4 !ABBYY FineReader 12 Professional Edition Full [PC, Ð¦Ð¸Ñ„Ñ\\200Ð¾Ð²Ð°Ñ\\217 Ð²ÐµÑ\\200Ñ\\201Ð¸Ñ\\217]\n",
       "5 !ABBYY FineReader 12 Professional Edition Full [PC, Ð¦Ð¸Ñ„Ñ\\200Ð¾Ð²Ð°Ñ\\217 Ð²ÐµÑ\\200Ñ\\201Ð¸Ñ\\217]\n",
       "6 !ABBYY FineReader 12 Professional Edition Full [PC, Ð¦Ð¸Ñ„Ñ\\200Ð¾Ð²Ð°Ñ\\217 Ð²ÐµÑ\\200Ñ\\201Ð¸Ñ\\217]\n",
       "  item_category_id date       date_block_num shop_id item_price item_cnt_day\n",
       "1 40               01.09.2014 20             54        58       1           \n",
       "2 76               02.04.2014 15             55      4490       1           \n",
       "3 76               04.08.2014 19             55      4490       1           \n",
       "4 76               04.04.2014 15             55      4490       1           \n",
       "5 76               20.10.2014 21             55      4490       1           \n",
       "6 76               06.07.2014 18             55      4490       1           "
      ]
     },
     "metadata": {},
     "output_type": "display_data"
    }
   ],
   "source": [
    "# merge the data by item_id. So that we can get item category with other data of csv_sales_train\n",
    "merge_csv_data = merge(csv_items,csv_sales_train,by=\"item_id\")\n",
    "head(merge_csv_data)"
   ]
  },
  {
   "cell_type": "code",
   "execution_count": 19,
   "metadata": {},
   "outputs": [],
   "source": [
    "library(data.table) #for creating a data table\n",
    "#Convert merge_csv_data into data table\n",
    "merge_csv_datatable = as.data.table(merge_csv_data)\n",
    "# add sum of item_cnt_day into item_cnt_month base on item id, item category, item price, shop id and date block num\n",
    "updated_merge_csv_datatable = merge_csv_datatable[, list(item_cnt_month=(sum(item_cnt_day))), by = c(\"item_id\", \"item_category_id\", \"item_price\", \"shop_id\", \"date_block_num\")]"
   ]
  },
  {
   "cell_type": "code",
   "execution_count": 11,
   "metadata": {},
   "outputs": [
    {
     "data": {
      "text/html": [
       "<table>\n",
       "<caption>A data.table: 6 × 6</caption>\n",
       "<thead>\n",
       "\t<tr><th scope=col>item_id</th><th scope=col>item_category_id</th><th scope=col>item_price</th><th scope=col>shop_id</th><th scope=col>date_block_num</th><th scope=col>item_cnt_month</th></tr>\n",
       "\t<tr><th scope=col>&lt;int&gt;</th><th scope=col>&lt;int&gt;</th><th scope=col>&lt;dbl&gt;</th><th scope=col>&lt;int&gt;</th><th scope=col>&lt;int&gt;</th><th scope=col>&lt;dbl&gt;</th></tr>\n",
       "</thead>\n",
       "<tbody>\n",
       "\t<tr><td>0</td><td>40</td><td>  58</td><td>54</td><td>20</td><td>1</td></tr>\n",
       "\t<tr><td>1</td><td>76</td><td>4490</td><td>55</td><td>15</td><td>2</td></tr>\n",
       "\t<tr><td>1</td><td>76</td><td>4490</td><td>55</td><td>19</td><td>1</td></tr>\n",
       "\t<tr><td>1</td><td>76</td><td>4490</td><td>55</td><td>21</td><td>1</td></tr>\n",
       "\t<tr><td>1</td><td>76</td><td>4490</td><td>55</td><td>18</td><td>1</td></tr>\n",
       "\t<tr><td>1</td><td>76</td><td>4490</td><td>55</td><td>20</td><td>1</td></tr>\n",
       "</tbody>\n",
       "</table>\n"
      ],
      "text/latex": [
       "A data.table: 6 × 6\n",
       "\\begin{tabular}{llllll}\n",
       " item\\_id & item\\_category\\_id & item\\_price & shop\\_id & date\\_block\\_num & item\\_cnt\\_month\\\\\n",
       " <int> & <int> & <dbl> & <int> & <int> & <dbl>\\\\\n",
       "\\hline\n",
       "\t 0 & 40 &   58 & 54 & 20 & 1\\\\\n",
       "\t 1 & 76 & 4490 & 55 & 15 & 2\\\\\n",
       "\t 1 & 76 & 4490 & 55 & 19 & 1\\\\\n",
       "\t 1 & 76 & 4490 & 55 & 21 & 1\\\\\n",
       "\t 1 & 76 & 4490 & 55 & 18 & 1\\\\\n",
       "\t 1 & 76 & 4490 & 55 & 20 & 1\\\\\n",
       "\\end{tabular}\n"
      ],
      "text/markdown": [
       "\n",
       "A data.table: 6 × 6\n",
       "\n",
       "| item_id &lt;int&gt; | item_category_id &lt;int&gt; | item_price &lt;dbl&gt; | shop_id &lt;int&gt; | date_block_num &lt;int&gt; | item_cnt_month &lt;dbl&gt; |\n",
       "|---|---|---|---|---|---|\n",
       "| 0 | 40 |   58 | 54 | 20 | 1 |\n",
       "| 1 | 76 | 4490 | 55 | 15 | 2 |\n",
       "| 1 | 76 | 4490 | 55 | 19 | 1 |\n",
       "| 1 | 76 | 4490 | 55 | 21 | 1 |\n",
       "| 1 | 76 | 4490 | 55 | 18 | 1 |\n",
       "| 1 | 76 | 4490 | 55 | 20 | 1 |\n",
       "\n"
      ],
      "text/plain": [
       "  item_id item_category_id item_price shop_id date_block_num item_cnt_month\n",
       "1 0       40                 58       54      20             1             \n",
       "2 1       76               4490       55      15             2             \n",
       "3 1       76               4490       55      19             1             \n",
       "4 1       76               4490       55      21             1             \n",
       "5 1       76               4490       55      18             1             \n",
       "6 1       76               4490       55      20             1             "
      ]
     },
     "metadata": {},
     "output_type": "display_data"
    },
    {
     "data": {
      "text/html": [
       "1739022"
      ],
      "text/latex": [
       "1739022"
      ],
      "text/markdown": [
       "1739022"
      ],
      "text/plain": [
       "[1] 1739022"
      ]
     },
     "metadata": {},
     "output_type": "display_data"
    }
   ],
   "source": [
    "head(updated_merge_csv_datatable)\n",
    "# displat total number of rows\n",
    "nrow(updated_merge_csv_datatable)"
   ]
  },
  {
   "cell_type": "code",
   "execution_count": 12,
   "metadata": {},
   "outputs": [
    {
     "data": {
      "text/plain": [
       "\n",
       "Call:\n",
       "lm(formula = (item_cnt_month) ~ item_id + item_category_id + \n",
       "    shop_id + date_block_num, data = updated_merge_csv_datatable)\n",
       "\n",
       "Residuals:\n",
       "    Min      1Q  Median      3Q     Max \n",
       " -24.05   -1.10   -1.07   -0.11 2166.86 \n",
       "\n",
       "Coefficients:\n",
       "                   Estimate Std. Error t value Pr(>|t|)    \n",
       "(Intercept)       2.173e+00  2.141e-02 101.469  < 2e-16 ***\n",
       "item_id          -3.006e-06  9.781e-07  -3.073  0.00212 ** \n",
       "item_category_id -1.674e-03  3.668e-04  -4.563 5.05e-06 ***\n",
       "shop_id           6.414e-04  3.511e-04   1.827  0.06770 .  \n",
       "date_block_num    2.779e-04  6.055e-04   0.459  0.64628    \n",
       "---\n",
       "Signif. codes:  0 '***' 0.001 '**' 0.01 '*' 0.05 '.' 0.1 ' ' 1\n",
       "\n",
       "Residual standard error: 7.62 on 1739017 degrees of freedom\n",
       "Multiple R-squared:  2.689e-05,\tAdjusted R-squared:  2.459e-05 \n",
       "F-statistic: 11.69 on 4 and 1739017 DF,  p-value: 1.702e-09\n"
      ]
     },
     "metadata": {},
     "output_type": "display_data"
    }
   ],
   "source": [
    "# used functoin lm - Multiple Linear Regression which creates regression model\n",
    "model = lm(formula=(item_cnt_month)~item_id+item_category_id+shop_id+date_block_num, data = updated_merge_csv_datatable)\n",
    "summary(model)"
   ]
  },
  {
   "cell_type": "code",
   "execution_count": 13,
   "metadata": {},
   "outputs": [
    {
     "data": {
      "text/html": [
       "<table>\n",
       "<caption>A data.frame: 6 × 5</caption>\n",
       "<thead>\n",
       "\t<tr><th></th><th scope=col>ID</th><th scope=col>shop_id</th><th scope=col>item_id</th><th scope=col>month</th><th scope=col>date_block_num</th></tr>\n",
       "\t<tr><th></th><th scope=col>&lt;int&gt;</th><th scope=col>&lt;int&gt;</th><th scope=col>&lt;int&gt;</th><th scope=col>&lt;dbl&gt;</th><th scope=col>&lt;dbl&gt;</th></tr>\n",
       "</thead>\n",
       "<tbody>\n",
       "\t<tr><th scope=row>1</th><td>0</td><td>5</td><td>5037</td><td>11</td><td>34</td></tr>\n",
       "\t<tr><th scope=row>2</th><td>1</td><td>5</td><td>5320</td><td>11</td><td>34</td></tr>\n",
       "\t<tr><th scope=row>3</th><td>2</td><td>5</td><td>5233</td><td>11</td><td>34</td></tr>\n",
       "\t<tr><th scope=row>4</th><td>3</td><td>5</td><td>5232</td><td>11</td><td>34</td></tr>\n",
       "\t<tr><th scope=row>5</th><td>4</td><td>5</td><td>5268</td><td>11</td><td>34</td></tr>\n",
       "\t<tr><th scope=row>6</th><td>5</td><td>5</td><td>5039</td><td>11</td><td>34</td></tr>\n",
       "</tbody>\n",
       "</table>\n"
      ],
      "text/latex": [
       "A data.frame: 6 × 5\n",
       "\\begin{tabular}{r|lllll}\n",
       "  & ID & shop\\_id & item\\_id & month & date\\_block\\_num\\\\\n",
       "  & <int> & <int> & <int> & <dbl> & <dbl>\\\\\n",
       "\\hline\n",
       "\t1 & 0 & 5 & 5037 & 11 & 34\\\\\n",
       "\t2 & 1 & 5 & 5320 & 11 & 34\\\\\n",
       "\t3 & 2 & 5 & 5233 & 11 & 34\\\\\n",
       "\t4 & 3 & 5 & 5232 & 11 & 34\\\\\n",
       "\t5 & 4 & 5 & 5268 & 11 & 34\\\\\n",
       "\t6 & 5 & 5 & 5039 & 11 & 34\\\\\n",
       "\\end{tabular}\n"
      ],
      "text/markdown": [
       "\n",
       "A data.frame: 6 × 5\n",
       "\n",
       "| <!--/--> | ID &lt;int&gt; | shop_id &lt;int&gt; | item_id &lt;int&gt; | month &lt;dbl&gt; | date_block_num &lt;dbl&gt; |\n",
       "|---|---|---|---|---|---|\n",
       "| 1 | 0 | 5 | 5037 | 11 | 34 |\n",
       "| 2 | 1 | 5 | 5320 | 11 | 34 |\n",
       "| 3 | 2 | 5 | 5233 | 11 | 34 |\n",
       "| 4 | 3 | 5 | 5232 | 11 | 34 |\n",
       "| 5 | 4 | 5 | 5268 | 11 | 34 |\n",
       "| 6 | 5 | 5 | 5039 | 11 | 34 |\n",
       "\n"
      ],
      "text/plain": [
       "  ID shop_id item_id month date_block_num\n",
       "1 0  5       5037    11    34            \n",
       "2 1  5       5320    11    34            \n",
       "3 2  5       5233    11    34            \n",
       "4 3  5       5232    11    34            \n",
       "5 4  5       5268    11    34            \n",
       "6 5  5       5039    11    34            "
      ]
     },
     "metadata": {},
     "output_type": "display_data"
    }
   ],
   "source": [
    "# Adding extra 2 column in csv_test for 11 month and date_block_num as 34 which means November 2015 \n",
    "csv_test$month = 11\n",
    "csv_test$date_block_num = 34\n",
    "head(csv_test)"
   ]
  },
  {
   "cell_type": "code",
   "execution_count": 14,
   "metadata": {},
   "outputs": [
    {
     "data": {
      "text/html": [
       "<table>\n",
       "<caption>A data.frame: 6 × 7</caption>\n",
       "<thead>\n",
       "\t<tr><th></th><th scope=col>item_id</th><th scope=col>ID</th><th scope=col>shop_id</th><th scope=col>month</th><th scope=col>date_block_num</th><th scope=col>item_name</th><th scope=col>item_category_id</th></tr>\n",
       "\t<tr><th></th><th scope=col>&lt;int&gt;</th><th scope=col>&lt;int&gt;</th><th scope=col>&lt;int&gt;</th><th scope=col>&lt;dbl&gt;</th><th scope=col>&lt;dbl&gt;</th><th scope=col>&lt;chr&gt;</th><th scope=col>&lt;int&gt;</th></tr>\n",
       "</thead>\n",
       "<tbody>\n",
       "\t<tr><th scope=row>1</th><td>30</td><td>160687</td><td>56</td><td>11</td><td>34</td><td>007: ÐšÐžÐžÐ Ð”Ð˜ÐÐÐ¢Ð« Â«Ð¡ÐšÐÐ™Ð¤ÐžÐ›Ð›Â»</td><td>40</td></tr>\n",
       "\t<tr><th scope=row>2</th><td>30</td><td>175987</td><td>35</td><td>11</td><td>34</td><td>007: ÐšÐžÐžÐ Ð”Ð˜ÐÐÐ¢Ð« Â«Ð¡ÐšÐÐ™Ð¤ÐžÐ›Ð›Â»</td><td>40</td></tr>\n",
       "\t<tr><th scope=row>3</th><td>30</td><td> 89287</td><td>18</td><td>11</td><td>34</td><td>007: ÐšÐžÐžÐ Ð”Ð˜ÐÐÐ¢Ð« Â«Ð¡ÐšÐÐ™Ð¤ÐžÐ›Ð›Â»</td><td>40</td></tr>\n",
       "\t<tr><th scope=row>4</th><td>30</td><td>114787</td><td>49</td><td>11</td><td>34</td><td>007: ÐšÐžÐžÐ Ð”Ð˜ÐÐÐ¢Ð« Â«Ð¡ÐšÐÐ™Ð¤ÐžÐ›Ð›Â»</td><td>40</td></tr>\n",
       "\t<tr><th scope=row>5</th><td>30</td><td> 28087</td><td> 7</td><td>11</td><td>34</td><td>007: ÐšÐžÐžÐ Ð”Ð˜ÐÐÐ¢Ð« Â«Ð¡ÐšÐÐ™Ð¤ÐžÐ›Ð›Â»</td><td>40</td></tr>\n",
       "\t<tr><th scope=row>6</th><td>30</td><td> 73987</td><td>21</td><td>11</td><td>34</td><td>007: ÐšÐžÐžÐ Ð”Ð˜ÐÐÐ¢Ð« Â«Ð¡ÐšÐÐ™Ð¤ÐžÐ›Ð›Â»</td><td>40</td></tr>\n",
       "</tbody>\n",
       "</table>\n"
      ],
      "text/latex": [
       "A data.frame: 6 × 7\n",
       "\\begin{tabular}{r|lllllll}\n",
       "  & item\\_id & ID & shop\\_id & month & date\\_block\\_num & item\\_name & item\\_category\\_id\\\\\n",
       "  & <int> & <int> & <int> & <dbl> & <dbl> & <chr> & <int>\\\\\n",
       "\\hline\n",
       "\t1 & 30 & 160687 & 56 & 11 & 34 & 007: ÐšÐžÐžÐ Ð”Ð˜ÐÐÐ¢Ð« Â«Ð¡ÐšÐÐ™Ð¤ÐžÐ›Ð›Â» & 40\\\\\n",
       "\t2 & 30 & 175987 & 35 & 11 & 34 & 007: ÐšÐžÐžÐ Ð”Ð˜ÐÐÐ¢Ð« Â«Ð¡ÐšÐÐ™Ð¤ÐžÐ›Ð›Â» & 40\\\\\n",
       "\t3 & 30 &  89287 & 18 & 11 & 34 & 007: ÐšÐžÐžÐ Ð”Ð˜ÐÐÐ¢Ð« Â«Ð¡ÐšÐÐ™Ð¤ÐžÐ›Ð›Â» & 40\\\\\n",
       "\t4 & 30 & 114787 & 49 & 11 & 34 & 007: ÐšÐžÐžÐ Ð”Ð˜ÐÐÐ¢Ð« Â«Ð¡ÐšÐÐ™Ð¤ÐžÐ›Ð›Â» & 40\\\\\n",
       "\t5 & 30 &  28087 &  7 & 11 & 34 & 007: ÐšÐžÐžÐ Ð”Ð˜ÐÐÐ¢Ð« Â«Ð¡ÐšÐÐ™Ð¤ÐžÐ›Ð›Â» & 40\\\\\n",
       "\t6 & 30 &  73987 & 21 & 11 & 34 & 007: ÐšÐžÐžÐ Ð”Ð˜ÐÐÐ¢Ð« Â«Ð¡ÐšÐÐ™Ð¤ÐžÐ›Ð›Â» & 40\\\\\n",
       "\\end{tabular}\n"
      ],
      "text/markdown": [
       "\n",
       "A data.frame: 6 × 7\n",
       "\n",
       "| <!--/--> | item_id &lt;int&gt; | ID &lt;int&gt; | shop_id &lt;int&gt; | month &lt;dbl&gt; | date_block_num &lt;dbl&gt; | item_name &lt;chr&gt; | item_category_id &lt;int&gt; |\n",
       "|---|---|---|---|---|---|---|---|\n",
       "| 1 | 30 | 160687 | 56 | 11 | 34 | 007: ÐšÐžÐžÐ Ð”Ð˜ÐÐÐ¢Ð« Â«Ð¡ÐšÐÐ™Ð¤ÐžÐ›Ð›Â» | 40 |\n",
       "| 2 | 30 | 175987 | 35 | 11 | 34 | 007: ÐšÐžÐžÐ Ð”Ð˜ÐÐÐ¢Ð« Â«Ð¡ÐšÐÐ™Ð¤ÐžÐ›Ð›Â» | 40 |\n",
       "| 3 | 30 |  89287 | 18 | 11 | 34 | 007: ÐšÐžÐžÐ Ð”Ð˜ÐÐÐ¢Ð« Â«Ð¡ÐšÐÐ™Ð¤ÐžÐ›Ð›Â» | 40 |\n",
       "| 4 | 30 | 114787 | 49 | 11 | 34 | 007: ÐšÐžÐžÐ Ð”Ð˜ÐÐÐ¢Ð« Â«Ð¡ÐšÐÐ™Ð¤ÐžÐ›Ð›Â» | 40 |\n",
       "| 5 | 30 |  28087 |  7 | 11 | 34 | 007: ÐšÐžÐžÐ Ð”Ð˜ÐÐÐ¢Ð« Â«Ð¡ÐšÐÐ™Ð¤ÐžÐ›Ð›Â» | 40 |\n",
       "| 6 | 30 |  73987 | 21 | 11 | 34 | 007: ÐšÐžÐžÐ Ð”Ð˜ÐÐÐ¢Ð« Â«Ð¡ÐšÐÐ™Ð¤ÐžÐ›Ð›Â» | 40 |\n",
       "\n"
      ],
      "text/plain": [
       "  item_id ID     shop_id month date_block_num\n",
       "1 30      160687 56      11    34            \n",
       "2 30      175987 35      11    34            \n",
       "3 30       89287 18      11    34            \n",
       "4 30      114787 49      11    34            \n",
       "5 30       28087  7      11    34            \n",
       "6 30       73987 21      11    34            \n",
       "  item_name                                      item_category_id\n",
       "1 007: ÐšÐžÐžÐ Ð”Ð\\230Ð\\235Ð\\220Ð¢Ð« Â«Ð¡ÐšÐ\\220Ð\\231Ð¤ÐžÐ›Ð›Â» 40              \n",
       "2 007: ÐšÐžÐžÐ Ð”Ð\\230Ð\\235Ð\\220Ð¢Ð« Â«Ð¡ÐšÐ\\220Ð\\231Ð¤ÐžÐ›Ð›Â» 40              \n",
       "3 007: ÐšÐžÐžÐ Ð”Ð\\230Ð\\235Ð\\220Ð¢Ð« Â«Ð¡ÐšÐ\\220Ð\\231Ð¤ÐžÐ›Ð›Â» 40              \n",
       "4 007: ÐšÐžÐžÐ Ð”Ð\\230Ð\\235Ð\\220Ð¢Ð« Â«Ð¡ÐšÐ\\220Ð\\231Ð¤ÐžÐ›Ð›Â» 40              \n",
       "5 007: ÐšÐžÐžÐ Ð”Ð\\230Ð\\235Ð\\220Ð¢Ð« Â«Ð¡ÐšÐ\\220Ð\\231Ð¤ÐžÐ›Ð›Â» 40              \n",
       "6 007: ÐšÐžÐžÐ Ð”Ð\\230Ð\\235Ð\\220Ð¢Ð« Â«Ð¡ÐšÐ\\220Ð\\231Ð¤ÐžÐ›Ð›Â» 40              "
      ]
     },
     "metadata": {},
     "output_type": "display_data"
    }
   ],
   "source": [
    "# merge the data by item_id. So that we can get item category with other data of csv_test\n",
    "merge_csv_test = merge(csv_test, csv_items, by = c(\"item_id\"))\n",
    "head(merge_csv_test)"
   ]
  },
  {
   "cell_type": "code",
   "execution_count": 15,
   "metadata": {},
   "outputs": [
    {
     "data": {
      "text/html": [
       "<style>\n",
       ".dl-inline {width: auto; margin:0; padding: 0}\n",
       ".dl-inline>dt, .dl-inline>dd {float: none; width: auto; display: inline-block}\n",
       ".dl-inline>dt::after {content: \":\\0020\"; padding-right: .5ex}\n",
       ".dl-inline>dt:not(:first-of-type) {padding-left: .5ex}\n",
       "</style><dl class=dl-inline><dt>1</dt><dd>2.15093050622305</dd><dt>2</dt><dd>2.13746104104554</dd><dt>3</dt><dd>2.12655718828281</dd><dt>4</dt><dd>2.14644068449721</dd><dt>5</dt><dd>2.11950175414221</dd><dt>6</dt><dd>2.12848139759388</dd></dl>\n"
      ],
      "text/latex": [
       "\\begin{description*}\n",
       "\\item[1] 2.15093050622305\n",
       "\\item[2] 2.13746104104554\n",
       "\\item[3] 2.12655718828281\n",
       "\\item[4] 2.14644068449721\n",
       "\\item[5] 2.11950175414221\n",
       "\\item[6] 2.12848139759388\n",
       "\\end{description*}\n"
      ],
      "text/markdown": [
       "1\n",
       ":   2.150930506223052\n",
       ":   2.137461041045543\n",
       ":   2.126557188282814\n",
       ":   2.146440684497215\n",
       ":   2.119501754142216\n",
       ":   2.12848139759388\n",
       "\n"
      ],
      "text/plain": [
       "       1        2        3        4        5        6 \n",
       "2.150931 2.137461 2.126557 2.146441 2.119502 2.128481 "
      ]
     },
     "metadata": {},
     "output_type": "display_data"
    }
   ],
   "source": [
    "# Predict function will predict for new data set base on regression model and merge_csv_test which we created above\n",
    "predict_result = predict(model, newdata = merge_csv_test, type=\"response\")\n",
    "head(predict_result)"
   ]
  },
  {
   "cell_type": "code",
   "execution_count": 16,
   "metadata": {},
   "outputs": [
    {
     "data": {
      "text/html": [
       "<table>\n",
       "<caption>A matrix: 6 × 2 of type dbl</caption>\n",
       "<thead>\n",
       "\t<tr><th></th><th scope=col></th><th scope=col>predict_result</th></tr>\n",
       "</thead>\n",
       "<tbody>\n",
       "\t<tr><th scope=row>1</th><td>160687</td><td>2.150931</td></tr>\n",
       "\t<tr><th scope=row>2</th><td>175987</td><td>2.137461</td></tr>\n",
       "\t<tr><th scope=row>3</th><td> 89287</td><td>2.126557</td></tr>\n",
       "\t<tr><th scope=row>4</th><td>114787</td><td>2.146441</td></tr>\n",
       "\t<tr><th scope=row>5</th><td> 28087</td><td>2.119502</td></tr>\n",
       "\t<tr><th scope=row>6</th><td> 73987</td><td>2.128481</td></tr>\n",
       "</tbody>\n",
       "</table>\n"
      ],
      "text/latex": [
       "A matrix: 6 × 2 of type dbl\n",
       "\\begin{tabular}{r|ll}\n",
       "  &  & predict\\_result\\\\\n",
       "\\hline\n",
       "\t1 & 160687 & 2.150931\\\\\n",
       "\t2 & 175987 & 2.137461\\\\\n",
       "\t3 &  89287 & 2.126557\\\\\n",
       "\t4 & 114787 & 2.146441\\\\\n",
       "\t5 &  28087 & 2.119502\\\\\n",
       "\t6 &  73987 & 2.128481\\\\\n",
       "\\end{tabular}\n"
      ],
      "text/markdown": [
       "\n",
       "A matrix: 6 × 2 of type dbl\n",
       "\n",
       "| <!--/--> | <!----> | predict_result |\n",
       "|---|---|---|\n",
       "| 1 | 160687 | 2.150931 |\n",
       "| 2 | 175987 | 2.137461 |\n",
       "| 3 |  89287 | 2.126557 |\n",
       "| 4 | 114787 | 2.146441 |\n",
       "| 5 |  28087 | 2.119502 |\n",
       "| 6 |  73987 | 2.128481 |\n",
       "\n"
      ],
      "text/plain": [
       "         predict_result\n",
       "1 160687 2.150931      \n",
       "2 175987 2.137461      \n",
       "3  89287 2.126557      \n",
       "4 114787 2.146441      \n",
       "5  28087 2.119502      \n",
       "6  73987 2.128481      "
      ]
     },
     "metadata": {},
     "output_type": "display_data"
    }
   ],
   "source": [
    "# cbind will bind ID from merge_csv_test and predict_result  \n",
    "final = cbind(merge_csv_test[,2], predict_result)\n",
    "head(final)"
   ]
  },
  {
   "cell_type": "code",
   "execution_count": 17,
   "metadata": {},
   "outputs": [
    {
     "data": {
      "text/html": [
       "<table>\n",
       "<caption>A data.frame: 6 × 2</caption>\n",
       "<thead>\n",
       "\t<tr><th></th><th scope=col>ID</th><th scope=col>item_cnt_month</th></tr>\n",
       "\t<tr><th></th><th scope=col>&lt;int&gt;</th><th scope=col>&lt;dbl&gt;</th></tr>\n",
       "</thead>\n",
       "<tbody>\n",
       "\t<tr><th scope=row>50191</th><td>0</td><td>2.138312</td></tr>\n",
       "\t<tr><th scope=row>52695</th><td>1</td><td>2.077214</td></tr>\n",
       "\t<tr><th scope=row>52045</th><td>2</td><td>2.137723</td></tr>\n",
       "\t<tr><th scope=row>52007</th><td>3</td><td>2.131031</td></tr>\n",
       "\t<tr><th scope=row>52296</th><td>4</td><td>2.135944</td></tr>\n",
       "\t<tr><th scope=row>50287</th><td>5</td><td>2.131612</td></tr>\n",
       "</tbody>\n",
       "</table>\n"
      ],
      "text/latex": [
       "A data.frame: 6 × 2\n",
       "\\begin{tabular}{r|ll}\n",
       "  & ID & item\\_cnt\\_month\\\\\n",
       "  & <int> & <dbl>\\\\\n",
       "\\hline\n",
       "\t50191 & 0 & 2.138312\\\\\n",
       "\t52695 & 1 & 2.077214\\\\\n",
       "\t52045 & 2 & 2.137723\\\\\n",
       "\t52007 & 3 & 2.131031\\\\\n",
       "\t52296 & 4 & 2.135944\\\\\n",
       "\t50287 & 5 & 2.131612\\\\\n",
       "\\end{tabular}\n"
      ],
      "text/markdown": [
       "\n",
       "A data.frame: 6 × 2\n",
       "\n",
       "| <!--/--> | ID &lt;int&gt; | item_cnt_month &lt;dbl&gt; |\n",
       "|---|---|---|\n",
       "| 50191 | 0 | 2.138312 |\n",
       "| 52695 | 1 | 2.077214 |\n",
       "| 52045 | 2 | 2.137723 |\n",
       "| 52007 | 3 | 2.131031 |\n",
       "| 52296 | 4 | 2.135944 |\n",
       "| 50287 | 5 | 2.131612 |\n",
       "\n"
      ],
      "text/plain": [
       "      ID item_cnt_month\n",
       "50191 0  2.138312      \n",
       "52695 1  2.077214      \n",
       "52045 2  2.137723      \n",
       "52007 3  2.131031      \n",
       "52296 4  2.135944      \n",
       "50287 5  2.131612      "
      ]
     },
     "metadata": {},
     "output_type": "display_data"
    }
   ],
   "source": [
    "library(dplyr)\n",
    "# change column name of final with some meaning full name like ID and item_cnt_month\n",
    "colnames(final) = c(\"ID\", \"item_cnt_month\")\n",
    "# change final to data.frame\n",
    "final = as.data.frame(final)\n",
    "# by default ID is consider as string so convert it into integer\n",
    "final$ID <- as.integer(final$ID)\n",
    "# Sort final by ID\n",
    "final = arrange(final, ID)\n",
    "head(final)"
   ]
  },
  {
   "cell_type": "code",
   "execution_count": 18,
   "metadata": {},
   "outputs": [],
   "source": [
    "# Save the data to submission.csv\n",
    "write.csv(final, \"submission.csv\", row.names = FALSE, quote = FALSE)"
   ]
  }
 ],
 "metadata": {
  "kernelspec": {
   "display_name": "R",
   "language": "R",
   "name": "ir"
  },
  "language_info": {
   "codemirror_mode": "r",
   "file_extension": ".r",
   "mimetype": "text/x-r-source",
   "name": "R",
   "pygments_lexer": "r",
   "version": "4.0.3"
  }
 },
 "nbformat": 4,
 "nbformat_minor": 4
}
